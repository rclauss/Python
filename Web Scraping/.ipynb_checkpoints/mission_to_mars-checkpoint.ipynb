{
 "cells": [
  {
   "cell_type": "code",
   "execution_count": 1,
   "metadata": {},
   "outputs": [],
   "source": [
    "# Dependencies\n",
    "from bs4 import BeautifulSoup\n",
    "from splinter import Browser\n",
    "import pandas as pd\n",
    "\n",
    "executable_path = {'executable_path': '/usr/local/bin/chromedriver'}\n",
    "browser = Browser('chrome', **executable_path, headless=False)"
   ]
  },
  {
   "cell_type": "code",
   "execution_count": 2,
   "metadata": {},
   "outputs": [],
   "source": [
    "# URL of page to be scraped\n",
    "url = 'https://mars.nasa.gov/news/?page=0&per_page=40&order=publish_date+desc%2Ccreated_at+desc&search=&category=19%2C165%2C184%2C204&blank_scope=Latest'\n",
    "\n",
    "# Browser visit\n",
    "browser.visit(url)\n",
    "\n",
    "# Create a Beautiful Soup object\n",
    "html = browser.html\n",
    "soup = BeautifulSoup(html, 'html.parser')"
   ]
  },
  {
   "cell_type": "code",
   "execution_count": 3,
   "metadata": {},
   "outputs": [],
   "source": [
    "latest_news = soup.find(\"li\", class_=\"slide\")\n",
    "news_title = latest_news.find(\"h3\").text\n",
    "news_p = latest_news.find(class_=\"article_teaser_body\").text"
   ]
  },
  {
   "cell_type": "code",
   "execution_count": 4,
   "metadata": {},
   "outputs": [],
   "source": [
    "# URL of page to be scraped\n",
    "url = 'https://www.jpl.nasa.gov/spaceimages/?search=&category=Mars'\n",
    "\n",
    "# Browser visit\n",
    "browser.visit(url)\n",
    "\n",
    "# Create a Beautiful Soup object\n",
    "html = browser.html\n",
    "soup = BeautifulSoup(html, 'html.parser')"
   ]
  },
  {
   "cell_type": "code",
   "execution_count": 5,
   "metadata": {},
   "outputs": [],
   "source": [
    "# soup.find(class_=\"main_feature\").footer.a[\"data-fancybox-href\"]\n",
    "base_url = \"https://www.jpl.nasa.gov\"\n",
    "style = soup.find(class_=\"main_feature\").find(class_=\"carousel_items\").article[\"style\"]\n",
    "featured_image_url = base_url + style.split(\"url\")[1].strip(\";(')\")"
   ]
  },
  {
   "cell_type": "code",
   "execution_count": 6,
   "metadata": {},
   "outputs": [],
   "source": [
    "# URL of page to be scraped\n",
    "url = 'https://twitter.com/marswxreport?lang=en'\n",
    "\n",
    "# Browser visit\n",
    "browser.visit(url)\n",
    "\n",
    "# Create a Beautiful Soup object\n",
    "html = browser.html\n",
    "soup = BeautifulSoup(html, 'html.parser')"
   ]
  },
  {
   "cell_type": "code",
   "execution_count": 7,
   "metadata": {},
   "outputs": [],
   "source": [
    "mars_weather = soup.find(\"li\", class_=\"js-stream-item\").find(\"p\", class_=\"tweet-text\").text"
   ]
  },
  {
   "cell_type": "markdown",
   "metadata": {},
   "source": [
    "From URL to pandas dataframe"
   ]
  },
  {
   "cell_type": "code",
   "execution_count": 8,
   "metadata": {},
   "outputs": [],
   "source": [
    "# URL of page to be scraped\n",
    "url = 'https://space-facts.com/mars/'\n",
    "\n",
    "# Return a list of dataframes for any tabular data that Pandas found\n",
    "table = pd.read_html(url)[0]\n",
    "\n",
    "# Rename table columns\n",
    "table.rename(columns={0:\"metric\", 1:\"value\"}, inplace=True)"
   ]
  },
  {
   "cell_type": "code",
   "execution_count": 9,
   "metadata": {},
   "outputs": [],
   "source": [
    "table_html = table.to_html(index=False)\n",
    "\n",
    "# Strip unwanted newlines to clean up the table\n",
    "table_html = table_html.replace('\\n', '')"
   ]
  },
  {
   "cell_type": "code",
   "execution_count": 10,
   "metadata": {},
   "outputs": [],
   "source": [
    "# Strip table tag for easier html formatting\n",
    "table_html = table_html.replace(\"<table border=\\\"1\\\" class=\\\"dataframe\\\">\", \"\").replace(\"</table>\", \"\").strip()"
   ]
  },
  {
   "cell_type": "code",
   "execution_count": 11,
   "metadata": {},
   "outputs": [],
   "source": [
    "# URL of page to be scraped\n",
    "url_parent = 'https://astrogeology.usgs.gov/search/results?q=hemisphere+enhanced&k1=target&v1=Mars'\n",
    "\n",
    "# Browser visit\n",
    "browser.visit(url_parent)\n",
    "\n",
    "# Create a Beautiful Soup object\n",
    "html = browser.html\n",
    "soup = BeautifulSoup(html, 'html.parser')\n",
    "\n",
    "# Child website links for each hemisphere\n",
    "base_url = \"https://astrogeology.usgs.gov\"\n",
    "links = [base_url + item.find(class_=\"description\").a[\"href\"] for item in soup.find_all(\"div\", class_=\"item\")]"
   ]
  },
  {
   "cell_type": "code",
   "execution_count": 12,
   "metadata": {},
   "outputs": [],
   "source": [
    "hemisphere_image_urls = []\n",
    "\n",
    "for url in links:\n",
    "    \n",
    "    # from url to soup\n",
    "    browser.visit(url)\n",
    "    html = browser.html\n",
    "    soup = BeautifulSoup(html, 'html.parser')\n",
    "    \n",
    "    # Extract data\n",
    "    title = soup.find(\"div\", class_=\"content\").find(\"h2\", class_=\"title\").text.replace(\" Enhanced\", \"\")\n",
    "    img_url = base_url + soup.find(\"img\", class_=\"wide-image\")[\"src\"]\n",
    "    \n",
    "    # Store in list\n",
    "    hemisphere_image_urls.append({\"title\": title, \"img_url\": img_url})"
   ]
  },
  {
   "cell_type": "code",
   "execution_count": 13,
   "metadata": {},
   "outputs": [],
   "source": [
    "browser.quit()"
   ]
  },
  {
   "cell_type": "code",
   "execution_count": null,
   "metadata": {},
   "outputs": [],
   "source": []
  }
 ],
 "metadata": {
  "kernelspec": {
   "display_name": "Python 3",
   "language": "python",
   "name": "python3"
  },
  "language_info": {
   "codemirror_mode": {
    "name": "ipython",
    "version": 3
   },
   "file_extension": ".py",
   "mimetype": "text/x-python",
   "name": "python",
   "nbconvert_exporter": "python",
   "pygments_lexer": "ipython3",
   "version": "3.7.3"
  }
 },
 "nbformat": 4,
 "nbformat_minor": 2
}
